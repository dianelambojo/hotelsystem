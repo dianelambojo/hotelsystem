{
 "cells": [
  {
   "cell_type": "markdown",
   "metadata": {},
   "source": [
    "# Hotel Booking System "
   ]
  },
  {
   "cell_type": "markdown",
   "metadata": {},
   "source": [
    "### Developers: \n",
    "- Emorecha, Jarry B.\n",
    "- Lambojo, Diane Isabelle M."
   ]
  },
  {
   "cell_type": "markdown",
   "metadata": {},
   "source": [
    "### Testers: \n",
    "- Gucio, Maria Angelica\n",
    "- Lapiz, Penelope Joice"
   ]
  },
  {
   "cell_type": "markdown",
   "metadata": {},
   "source": [
    "# Main Story\n",
    "\n",
    "### As a user, I can book hotel rooms by: \n",
    "\n",
    "- Selecting booking dates, \n",
    "\n",
    "- Selecting number of guests, \n",
    "\n",
    "- Selecting the type of room, \n",
    "\n",
    "- Inputting number of rooms "
   ]
  },
  {
   "cell_type": "markdown",
   "metadata": {},
   "source": [
    "### ASSIGNMENT OF VARIABLE NAMES\n",
    "#### SELECTIING BOOKING DATES\n",
    "- Check in Date -> checkinDate\n",
    "- Check out Date -> checkoutDate\n",
    "\n",
    "#### SELECTING NUMBERS OF GUESTS & TYPE OF ROOM\n",
    "- Number of Guests -> numGuests\n",
    "- Room Type -> roomType\n",
    "\n",
    "#### INPUTTING NUMBER OF ROOMS\n",
    "- Number of Rooms -> numRooms"
   ]
  },
  {
   "cell_type": "markdown",
   "metadata": {},
   "source": [
    "# FUNCTION"
   ]
  },
  {
   "cell_type": "code",
   "execution_count": 1,
   "metadata": {},
   "outputs": [],
   "source": [
    "# PLS USE THESE DETAILS IN CREATING UNIT TESTING\n",
    "\n",
    "# We included var 'user'. Please use USER 1\n",
    "# Booking Dates available: Check in- datetime.date(2021, 12, 24)  / Check out- datetime.date(2021, 12, 25) \n",
    "# Number of Guests limit: <= 5 | 10 (10 maximum guest if 2 rooms, 5 maximum guest if 1 room)\n",
    "# Room type available: 'Double'\n",
    "# Number of Rooms limit: <= 2\n",
    "\n",
    "# Function name: booking\n",
    "\n",
    "def booking(user, checkinDate, checkoutDate, numGuests, roomType, numRooms):\n",
    "    bookingDetails = [\n",
    "        {\n",
    "            'user' : '1',\n",
    "            'checkinDate': '12/24/2021', # checkin date available\n",
    "            'checkoutDate' : '12/25/2021', # checkout date available\n",
    "            'numGuests': 5,\n",
    "            'roomType': 'Double', # type of room available\n",
    "            'numRooms' : 2\n",
    "        },\n",
    "        {\n",
    "            'user' : '2',\n",
    "            'checkinDate': '06/13/2022',\n",
    "            'checkoutDate' : '06/14/2022', # checkin date available\n",
    "            'numGuests': 4,\n",
    "            'roomType': 'single',\n",
    "            'numRooms' : 1\n",
    "        }\n",
    "    ]\n",
    "    \n",
    "    # 10 maximum guest if 2 rooms, \n",
    "    # 5 maximum guest if 1 room \n",
    "    \n",
    "    for bookingDetail in bookingDetails:\n",
    "        if (numRooms == 1):\n",
    "            if (numGuests <= 5):\n",
    "                bookingDetail['numGuests'] = numGuests\n",
    "                bookingDetail['numRooms'] = numRooms\n",
    "        elif(numRooms == 2):\n",
    "            if (numGuests <= 10):\n",
    "                bookingDetail['numGuests'] = numGuests\n",
    "                bookingDetail['numRoom'] = numRooms\n",
    "                \n",
    "        checkinDateStr = checkinDate.strftime(\"%m/%d/%Y\");\n",
    "        checkoutDateStr = checkoutDate.strftime(\"%m/%d/%Y\");\n",
    "        \n",
    "        if bookingDetail['user'] == user and bookingDetail['checkinDate'] == checkinDateStr and bookingDetail['checkoutDate'] == checkoutDateStr and bookingDetail['numGuests'] == numGuests and bookingDetail['roomType'] == roomType and bookingDetail['numRooms'] == numRooms:\n",
    "            return True\n",
    "        return False"
   ]
  },
  {
   "cell_type": "markdown",
   "metadata": {},
   "source": [
    "# Scenario 1\n",
    "- C1: If the booking dates are available \n",
    "\n",
    "- C2: If the selected number of guests does not exceed the 5 or 10 guests limit per room \n",
    "\n",
    "- C3: If the selected type of room is available \n",
    "\n",
    "- C4: If the selected number of rooms is available "
   ]
  },
  {
   "cell_type": "code",
   "execution_count": 2,
   "metadata": {
    "scrolled": true
   },
   "outputs": [
    {
     "name": "stderr",
     "output_type": "stream",
     "text": [
      ".\n",
      "----------------------------------------------------------------------\n",
      "Ran 1 test in 0.003s\n",
      "\n",
      "OK\n"
     ]
    },
    {
     "data": {
      "text/plain": [
       "<unittest.runner.TextTestResult run=1 errors=0 failures=0>"
      ]
     },
     "execution_count": 2,
     "metadata": {},
     "output_type": "execute_result"
    }
   ],
   "source": [
    "#put unit test for each scenario here\n",
    "\n",
    "import unittest\n",
    "import datetime\n",
    "class TestBookingScenario1(unittest.TestCase):\n",
    "  def test_booking_scenario1(self):\n",
    "    user = '1'\n",
    "    checkinDate = datetime.date(2021, 12, 24)\n",
    "    checkoutDate = datetime.date(2021, 12, 25)\n",
    "    numGuests = 5\n",
    "    roomType = 'Double'\n",
    "    numRooms = 1\n",
    "    self.assertEqual(booking(user, checkinDate, checkoutDate, numGuests, roomType, numRooms), True) \n",
    "    # return true. all conditions are true, so if i run mo return siya ug OK\n",
    "    \n",
    "    \n",
    "suite = unittest.TestLoader().loadTestsFromTestCase(TestBookingScenario1)\n",
    "unittest.TextTestRunner().run(suite)"
   ]
  },
  {
   "cell_type": "markdown",
   "metadata": {},
   "source": [
    "# Scenario 2\n",
    "- C1: **If the booking dates are not available**\n",
    "\n",
    "- C2: If the selected number of guests does not exceed the 5 guests limit per room \n",
    "\n",
    "- C3: If the selected type of room is available \n",
    "\n",
    "- C4: If the selected number of rooms is available "
   ]
  },
  {
   "cell_type": "code",
   "execution_count": 3,
   "metadata": {
    "scrolled": true
   },
   "outputs": [
    {
     "name": "stderr",
     "output_type": "stream",
     "text": [
      "F\n",
      "======================================================================\n",
      "FAIL: test_booking_scenario2 (__main__.TestBookingScenario2)\n",
      "----------------------------------------------------------------------\n",
      "Traceback (most recent call last):\n",
      "  File \"C:\\Users\\Angel\\AppData\\Local\\Temp/ipykernel_16932/398430758.py\", line 13, in test_booking_scenario2\n",
      "    self.assertEqual(booking(user, checkinDate, checkoutDate, numGuests, roomType, numRooms), True)\n",
      "AssertionError: False != True\n",
      "\n",
      "----------------------------------------------------------------------\n",
      "Ran 1 test in 0.001s\n",
      "\n",
      "FAILED (failures=1)\n"
     ]
    },
    {
     "data": {
      "text/plain": [
       "<unittest.runner.TextTestResult run=1 errors=0 failures=1>"
      ]
     },
     "execution_count": 3,
     "metadata": {},
     "output_type": "execute_result"
    }
   ],
   "source": [
    "#put unit test for each scenario here\n",
    "\n",
    "import unittest\n",
    "import datetime\n",
    "class TestBookingScenario2(unittest.TestCase):\n",
    "  def test_booking_scenario2(self):\n",
    "    user = '1'\n",
    "    checkinDate = datetime.date(2021, 12, 25) #checking and checkout date unavailable\n",
    "    checkoutDate = datetime.date(2021, 12, 25)\n",
    "    numGuests = 5\n",
    "    roomType = 'Double'\n",
    "    numRooms = 1\n",
    "    self.assertEqual(booking(user, checkinDate, checkoutDate, numGuests, roomType, numRooms), True) \n",
    "    # return true. all conditions are true, so if i run mo return siya ug OK\n",
    "    \n",
    "    \n",
    "suite = unittest.TestLoader().loadTestsFromTestCase(TestBookingScenario2)\n",
    "unittest.TextTestRunner().run(suite)"
   ]
  },
  {
   "cell_type": "markdown",
   "metadata": {},
   "source": [
    "# Scenario 3\n",
    "- C1: If the booking dates are available \n",
    "\n",
    "- C2: **If the selected number of guests exceeds the 5 or 10 guests limit per room** \n",
    "\n",
    "- C3: If the selected type of room is available, \n",
    "\n",
    "- C4: If the selected number of rooms is available"
   ]
  },
  {
   "cell_type": "code",
   "execution_count": 4,
   "metadata": {},
   "outputs": [
    {
     "name": "stderr",
     "output_type": "stream",
     "text": [
      "F\n",
      "======================================================================\n",
      "FAIL: test_booking_scenario3 (__main__.TestBookingScenario3)\n",
      "----------------------------------------------------------------------\n",
      "Traceback (most recent call last):\n",
      "  File \"C:\\Users\\Angel\\AppData\\Local\\Temp/ipykernel_16932/2374840047.py\", line 14, in test_booking_scenario3\n",
      "    self.assertEqual(booking(user, checkinDate, checkoutDate, numGuests, roomType, numRooms), True)\n",
      "AssertionError: False != True\n",
      "\n",
      "----------------------------------------------------------------------\n",
      "Ran 1 test in 0.001s\n",
      "\n",
      "FAILED (failures=1)\n"
     ]
    },
    {
     "data": {
      "text/plain": [
       "<unittest.runner.TextTestResult run=1 errors=0 failures=1>"
      ]
     },
     "execution_count": 4,
     "metadata": {},
     "output_type": "execute_result"
    }
   ],
   "source": [
    "#put unit test for each scenario here\n",
    "\n",
    "import unittest\n",
    "import datetime\n",
    "\n",
    "class TestBookingScenario3(unittest.TestCase):\n",
    "  def test_booking_scenario3(self):\n",
    "    user = '1'\n",
    "    checkinDate = datetime.date(2021, 12, 24)\n",
    "    checkoutDate = datetime.date(2021, 12, 25)\n",
    "    numGuests = 11\n",
    "    roomType = 'Double'\n",
    "    numRooms = 2\n",
    "    self.assertEqual(booking(user, checkinDate, checkoutDate, numGuests, roomType, numRooms), True) \n",
    "\n",
    "suite = unittest.TestLoader().loadTestsFromTestCase(TestBookingScenario3)\n",
    "unittest.TextTestRunner().run(suite)"
   ]
  },
  {
   "cell_type": "markdown",
   "metadata": {},
   "source": [
    "# Scenario 4\n",
    "- C1: If the booking dates are available \n",
    "\n",
    "- C2: If the selected number of guests does not exceed the 5 or 10 guests limit per room \n",
    "\n",
    "- C3: **If the selected type of room is not available**\n",
    "\n",
    "- C4: If the selected number of rooms is available \n"
   ]
  },
  {
   "cell_type": "code",
   "execution_count": 5,
   "metadata": {},
   "outputs": [
    {
     "name": "stderr",
     "output_type": "stream",
     "text": [
      "F\n",
      "======================================================================\n",
      "FAIL: test_booking_scenario4 (__main__.TestBookingScenario4)\n",
      "----------------------------------------------------------------------\n",
      "Traceback (most recent call last):\n",
      "  File \"C:\\Users\\Angel\\AppData\\Local\\Temp/ipykernel_16932/3153862771.py\", line 13, in test_booking_scenario4\n",
      "    self.assertEqual(booking(user, checkinDate, checkoutDate, numGuests, roomType, numRooms), True)\n",
      "AssertionError: False != True\n",
      "\n",
      "----------------------------------------------------------------------\n",
      "Ran 1 test in 0.002s\n",
      "\n",
      "FAILED (failures=1)\n"
     ]
    },
    {
     "data": {
      "text/plain": [
       "<unittest.runner.TextTestResult run=1 errors=0 failures=1>"
      ]
     },
     "execution_count": 5,
     "metadata": {},
     "output_type": "execute_result"
    }
   ],
   "source": [
    "#put unit test for each scenario here\n",
    "\n",
    "import unittest\n",
    "import datetime\n",
    "class TestBookingScenario4(unittest.TestCase):\n",
    "  def test_booking_scenario4(self):\n",
    "    user = '1'\n",
    "    checkinDate = datetime.date(2021, 12, 24)\n",
    "    checkoutDate = datetime.date(2021, 12, 25)\n",
    "    numGuests = 5\n",
    "    roomType = 'Suite'\n",
    "    numRooms = 1\n",
    "    self.assertEqual(booking(user, checkinDate, checkoutDate, numGuests, roomType, numRooms), True)\n",
    "\n",
    "suite = unittest.TestLoader().loadTestsFromTestCase(TestBookingScenario4)\n",
    "unittest.TextTestRunner().run(suite)"
   ]
  },
  {
   "cell_type": "markdown",
   "metadata": {},
   "source": [
    "# Scenario 5\n",
    "- C1: If the booking dates are available \n",
    "\n",
    "- C2: If the selected number of guests does not exceed the 5 guests limit per room  \n",
    "\n",
    "- C3: If the selected type of room is available \n",
    "\n",
    "- C4: **If the selected number of rooms exceeds the 2 rooms limit per booking**  "
   ]
  },
  {
   "cell_type": "code",
   "execution_count": 10,
   "metadata": {},
   "outputs": [
    {
     "name": "stderr",
     "output_type": "stream",
     "text": [
      "F\n",
      "======================================================================\n",
      "FAIL: test_booking_scenario5 (__main__.TestBookingScenario5)\n",
      "----------------------------------------------------------------------\n",
      "Traceback (most recent call last):\n",
      "  File \"C:\\Users\\Angel\\AppData\\Local\\Temp/ipykernel_16932/2678972691.py\", line 13, in test_booking_scenario5\n",
      "    self.assertEqual(booking(user, checkinDate, checkoutDate, numGuests, roomType, numRooms), True)\n",
      "AssertionError: False != True\n",
      "\n",
      "----------------------------------------------------------------------\n",
      "Ran 1 test in 0.001s\n",
      "\n",
      "FAILED (failures=1)\n"
     ]
    },
    {
     "data": {
      "text/plain": [
       "<unittest.runner.TextTestResult run=1 errors=0 failures=1>"
      ]
     },
     "execution_count": 10,
     "metadata": {},
     "output_type": "execute_result"
    }
   ],
   "source": [
    "#put unit test for each scenario here\n",
    "\n",
    "import unittest\n",
    "import datetime\n",
    "class TestBookingScenario5(unittest.TestCase):\n",
    "  def test_booking_scenario5(self):\n",
    "    user = '1'\n",
    "    checkinDate = datetime.date(2021, 12, 24)\n",
    "    checkoutDate = datetime.date(2021, 12, 25)\n",
    "    numGuests = 5\n",
    "    roomType = 'Suite'\n",
    "    numRooms = 3\n",
    "    self.assertEqual(booking(user, checkinDate, checkoutDate, numGuests, roomType, numRooms), True)\n",
    "\n",
    "suite = unittest.TestLoader().loadTestsFromTestCase(TestBookingScenario5)\n",
    "unittest.TextTestRunner().run(suite)"
   ]
  },
  {
   "cell_type": "markdown",
   "metadata": {},
   "source": [
    "#### Run the unit tests, make sure result is \"FAILED\""
   ]
  },
  {
   "cell_type": "markdown",
   "metadata": {},
   "source": [
    "# Combine ALL in one test case"
   ]
  },
  {
   "cell_type": "code",
   "execution_count": 11,
   "metadata": {},
   "outputs": [
    {
     "name": "stderr",
     "output_type": "stream",
     "text": [
      ".\n",
      "----------------------------------------------------------------------\n",
      "Ran 1 test in 0.002s\n",
      "\n",
      "OK\n"
     ]
    },
    {
     "data": {
      "text/plain": [
       "<unittest.runner.TextTestResult run=1 errors=0 failures=0>"
      ]
     },
     "execution_count": 11,
     "metadata": {},
     "output_type": "execute_result"
    }
   ],
   "source": [
    "#compiled test case here\n",
    "\n",
    "import unittest\n",
    "import datetime\n",
    "\n",
    "class TestBookingScenarios(unittest.TestCase):\n",
    "    \n",
    "  def test_booking_scenario1(self):\n",
    "    user = '1'\n",
    "    checkinDate = datetime.date(2021, 12, 24)\n",
    "    checkoutDate = datetime.date(2021, 12, 25)\n",
    "    numGuests = 5\n",
    "    roomType = 'Double'\n",
    "    numRooms = 1\n",
    "    self.assertEqual(booking(user, checkinDate, checkoutDate, numGuests, roomType, numRooms), True)\n",
    "    \n",
    "class TestBookingScenario2(unittest.TestCase):\n",
    "  def test_booking_scenario2(self):\n",
    "    user = '1'\n",
    "    checkinDate = datetime.date(2021, 12, 25) #checking and checkout date unavailable\n",
    "    checkoutDate = datetime.date(2021, 12, 25)\n",
    "    numGuests = 5\n",
    "    roomType = 'Double'\n",
    "    numRooms = 1\n",
    "    self.assertEqual(booking(user, checkinDate, checkoutDate, numGuests, roomType, numRooms), False)\n",
    "    \n",
    "\n",
    "  def test_booking_scenario3(self):\n",
    "    user = '1'\n",
    "    checkinDate = datetime.date(2021, 12, 24)\n",
    "    checkoutDate = datetime.date(2021, 12, 25)\n",
    "    numGuests = 6\n",
    "    roomType = 'Double'\n",
    "    numRooms = 1\n",
    "    self.assertEqual(booking(user, checkinDate, checkoutDate, numGuests, roomType, numRooms), False) \n",
    "    \n",
    "  def test_booking_scenario4(self):\n",
    "    user = '1'\n",
    "    checkinDate = datetime.date(2021, 12, 24)\n",
    "    checkoutDate = datetime.date(2021, 12, 25)\n",
    "    numGuests = 5\n",
    "    roomType = 'Suite'\n",
    "    numRooms = 1\n",
    "    self.assertEqual(booking(user, checkinDate, checkoutDate, numGuests, roomType, numRooms), False)\n",
    "\n",
    "class TestBookingScenario5(unittest.TestCase):\n",
    "  def test_booking_scenario5(self):\n",
    "    user = '1'\n",
    "    checkinDate = datetime.date(2021, 12, 24)\n",
    "    checkoutDate = datetime.date(2021, 12, 25)\n",
    "    numGuests = 5\n",
    "    roomType = 'Suite'\n",
    "    numRooms = 3\n",
    "    self.assertEqual(booking(user, checkinDate, checkoutDate, numGuests, roomType, numRooms), False)\n",
    "    \n",
    "    \n",
    "suite = unittest.TestLoader().loadTestsFromTestCase(TestBookingScenarios)\n",
    "unittest.TextTestRunner().run(suite)"
   ]
  },
  {
   "cell_type": "code",
   "execution_count": null,
   "metadata": {},
   "outputs": [],
   "source": []
  }
 ],
 "metadata": {
  "kernelspec": {
   "display_name": "Python 3 (ipykernel)",
   "language": "python",
   "name": "python3"
  },
  "language_info": {
   "codemirror_mode": {
    "name": "ipython",
    "version": 3
   },
   "file_extension": ".py",
   "mimetype": "text/x-python",
   "name": "python",
   "nbconvert_exporter": "python",
   "pygments_lexer": "ipython3",
   "version": "3.9.7"
  }
 },
 "nbformat": 4,
 "nbformat_minor": 4
}
